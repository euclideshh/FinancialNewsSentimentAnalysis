{
 "cells": [
  {
   "cell_type": "markdown",
   "id": "e121d52a",
   "metadata": {},
   "source": [
    "## Title"
   ]
  },
  {
   "cell_type": "code",
   "execution_count": 1,
   "id": "42c7b021",
   "metadata": {},
   "outputs": [],
   "source": [
    "import polars as pl\n",
    "import matplotlib.pyplot as plt\n",
    "from pathlib import Path"
   ]
  },
  {
   "cell_type": "markdown",
   "id": "ca5ff8cd",
   "metadata": {},
   "source": [
    "## 1."
   ]
  },
  {
   "cell_type": "markdown",
   "id": "bc54ce28",
   "metadata": {},
   "source": []
  },
  {
   "cell_type": "code",
   "execution_count": 2,
   "id": "5505f555",
   "metadata": {},
   "outputs": [
    {
     "name": "stderr",
     "output_type": "stream",
     "text": [
      "C:\\Users\\eucli\\AppData\\Local\\Temp\\ipykernel_21916\\2179130930.py:4: DeprecationWarning: `GroupBy.count` was renamed; use `GroupBy.len` instead\n",
      "  df_phrasebank.group_by('label').count()\n"
     ]
    },
    {
     "data": {
      "text/html": [
       "<div><style>\n",
       ".dataframe > thead > tr,\n",
       ".dataframe > tbody > tr {\n",
       "  text-align: right;\n",
       "  white-space: pre-wrap;\n",
       "}\n",
       "</style>\n",
       "<small>shape: (3, 2)</small><table border=\"1\" class=\"dataframe\"><thead><tr><th>label</th><th>count</th></tr><tr><td>i64</td><td>u32</td></tr></thead><tbody><tr><td>2</td><td>1359</td></tr><tr><td>0</td><td>601</td></tr><tr><td>1</td><td>2870</td></tr></tbody></table></div>"
      ],
      "text/plain": [
       "shape: (3, 2)\n",
       "┌───────┬───────┐\n",
       "│ label ┆ count │\n",
       "│ ---   ┆ ---   │\n",
       "│ i64   ┆ u32   │\n",
       "╞═══════╪═══════╡\n",
       "│ 2     ┆ 1359  │\n",
       "│ 0     ┆ 601   │\n",
       "│ 1     ┆ 2870  │\n",
       "└───────┴───────┘"
      ]
     },
     "execution_count": 2,
     "metadata": {},
     "output_type": "execute_result"
    }
   ],
   "source": [
    "# Loading phrasebank dataset\n",
    "data_path = Path('../data/')\n",
    "df_phrasebank = pl.read_csv(data_path / 'processed/financial_phrasebank_google_translate_es.csv')\n",
    "df_phrasebank.group_by('label').count()"
   ]
  },
  {
   "cell_type": "markdown",
   "id": "0580bc5c",
   "metadata": {},
   "source": []
  },
  {
   "cell_type": "markdown",
   "id": "a47e8c9e",
   "metadata": {},
   "source": []
  },
  {
   "cell_type": "markdown",
   "id": "06167443",
   "metadata": {},
   "source": []
  },
  {
   "cell_type": "code",
   "execution_count": 3,
   "id": "a3f726f0",
   "metadata": {},
   "outputs": [
    {
     "name": "stderr",
     "output_type": "stream",
     "text": [
      "C:\\Users\\eucli\\AppData\\Local\\Temp\\ipykernel_21916\\3341699352.py:3: DeprecationWarning: `GroupBy.count` was renamed; use `GroupBy.len` instead\n",
      "  df_original.group_by('target_sentiment').count()\n"
     ]
    },
    {
     "data": {
      "text/html": [
       "<div><style>\n",
       ".dataframe > thead > tr,\n",
       ".dataframe > tbody > tr {\n",
       "  text-align: right;\n",
       "  white-space: pre-wrap;\n",
       "}\n",
       "</style>\n",
       "<small>shape: (3, 2)</small><table border=\"1\" class=\"dataframe\"><thead><tr><th>target_sentiment</th><th>count</th></tr><tr><td>str</td><td>u32</td></tr></thead><tbody><tr><td>&quot;negative&quot;</td><td>3891</td></tr><tr><td>&quot;neutral&quot;</td><td>880</td></tr><tr><td>&quot;positive&quot;</td><td>4114</td></tr></tbody></table></div>"
      ],
      "text/plain": [
       "shape: (3, 2)\n",
       "┌──────────────────┬───────┐\n",
       "│ target_sentiment ┆ count │\n",
       "│ ---              ┆ ---   │\n",
       "│ str              ┆ u32   │\n",
       "╞══════════════════╪═══════╡\n",
       "│ negative         ┆ 3891  │\n",
       "│ neutral          ┆ 880   │\n",
       "│ positive         ┆ 4114  │\n",
       "└──────────────────┴───────┘"
      ]
     },
     "execution_count": 3,
     "metadata": {},
     "output_type": "execute_result"
    }
   ],
   "source": [
    "# Loading original dataset\n",
    "df_original = pl.read_csv(data_path / 'raw/financial_news.csv')\n",
    "df_original.group_by('target_sentiment').count()"
   ]
  },
  {
   "cell_type": "markdown",
   "id": "c77362fe",
   "metadata": {},
   "source": [
    "## Combining datasets"
   ]
  },
  {
   "cell_type": "code",
   "execution_count": 4,
   "id": "1d81ec3d",
   "metadata": {},
   "outputs": [],
   "source": [
    "# Selecting columns from the original dataset\n",
    "df_original = df_original.select(['text', 'target_sentiment'])\n",
    "# Setting columns names from phrasebank dataset\n",
    "df_phrasebank = df_phrasebank.select(['sentence_es_googletranslate', 'label']).rename({'sentence_es_googletranslate': 'text'}).rename({'label': 'target_sentiment'})\n"
   ]
  },
  {
   "cell_type": "code",
   "execution_count": 5,
   "id": "07047f8f",
   "metadata": {},
   "outputs": [],
   "source": [
    "label_mapping = {'negative': 'Negative', 'neutral': 'Neutral', 'positive': 'Positive'}\n",
    "df_original = df_original.with_columns(\n",
    "    pl.col('target_sentiment')\n",
    "    .replace_strict(label_mapping)\n",
    "    .alias('target_sentiment')\n",
    "    )"
   ]
  },
  {
   "cell_type": "code",
   "execution_count": 6,
   "id": "4e63941f",
   "metadata": {},
   "outputs": [],
   "source": [
    "# Create mapping for labels\n",
    "label_mapping = {0: 'Negative', 1: 'Neutral', 2: 'Positive'}\n",
    "# Mapping labels to text\n",
    "df_phrasebank = df_phrasebank.with_columns(\n",
    "    pl.col('target_sentiment')\n",
    "    .replace_strict(label_mapping)\n",
    "    .alias('target_sentiment')\n",
    "    )\n"
   ]
  },
  {
   "cell_type": "code",
   "execution_count": 7,
   "id": "d00219cc",
   "metadata": {},
   "outputs": [
    {
     "name": "stderr",
     "output_type": "stream",
     "text": [
      "C:\\Users\\eucli\\AppData\\Local\\Temp\\ipykernel_21916\\1338074658.py:3: DeprecationWarning: `GroupBy.count` was renamed; use `GroupBy.len` instead\n",
      "  df_combined.group_by('target_sentiment').count()\n"
     ]
    },
    {
     "data": {
      "text/html": [
       "<div><style>\n",
       ".dataframe > thead > tr,\n",
       ".dataframe > tbody > tr {\n",
       "  text-align: right;\n",
       "  white-space: pre-wrap;\n",
       "}\n",
       "</style>\n",
       "<small>shape: (3, 2)</small><table border=\"1\" class=\"dataframe\"><thead><tr><th>target_sentiment</th><th>count</th></tr><tr><td>str</td><td>u32</td></tr></thead><tbody><tr><td>&quot;Neutral&quot;</td><td>3750</td></tr><tr><td>&quot;Negative&quot;</td><td>4492</td></tr><tr><td>&quot;Positive&quot;</td><td>5473</td></tr></tbody></table></div>"
      ],
      "text/plain": [
       "shape: (3, 2)\n",
       "┌──────────────────┬───────┐\n",
       "│ target_sentiment ┆ count │\n",
       "│ ---              ┆ ---   │\n",
       "│ str              ┆ u32   │\n",
       "╞══════════════════╪═══════╡\n",
       "│ Neutral          ┆ 3750  │\n",
       "│ Negative         ┆ 4492  │\n",
       "│ Positive         ┆ 5473  │\n",
       "└──────────────────┴───────┘"
      ]
     },
     "execution_count": 7,
     "metadata": {},
     "output_type": "execute_result"
    }
   ],
   "source": [
    "# Combining datasets\n",
    "df_combined = pl.concat([df_original, df_phrasebank])\n",
    "df_combined.group_by('target_sentiment').count()"
   ]
  },
  {
   "cell_type": "markdown",
   "id": "caa18111",
   "metadata": {},
   "source": []
  },
  {
   "cell_type": "code",
   "execution_count": 8,
   "id": "39a3b155",
   "metadata": {},
   "outputs": [
    {
     "data": {
      "image/png": "[encoded data removed]",
      "text/plain": [
       "<Figure size 1000x600 with 1 Axes>"
      ]
     },
     "metadata": {},
     "output_type": "display_data"
    }
   ],
   "source": [
    "# Plotting the distribution of target sentiments \n",
    "value_counts_df = df_combined['target_sentiment'].value_counts(normalize=True).sort('target_sentiment')\n",
    "proportions = value_counts_df['proportion'].to_list()\n",
    "\n",
    "# Create the pie chart\n",
    "fig, ax = plt.subplots(figsize=(10, 6))\n",
    "ax.pie(proportions, labels=value_counts_df['target_sentiment'], autopct='%1.1f%%', startangle=90) \n",
    "ax.set_title('Distribution Combined Dataset')\n",
    "plt.show()"
   ]
  },
  {
   "cell_type": "code",
   "execution_count": null,
   "id": "2dfe0f81",
   "metadata": {},
   "outputs": [],
   "source": [
    "df_combined.write_csv(data_path / 'processed/financial_news_combined_original-phrasebank.csv')"
   ]
  }
 ],
 "metadata": {
  "kernelspec": {
   "display_name": "FinancialNewsSentimentAnalysis",
   "language": "python",
   "name": "python3"
  },
  "language_info": {
   "codemirror_mode": {
    "name": "ipython",
    "version": 3
   },
   "file_extension": ".py",
   "mimetype": "text/x-python",
   "name": "python",
   "nbconvert_exporter": "python",
   "pygments_lexer": "ipython3",
   "version": "3.11.13"
  }
 },
 "nbformat": 4,
 "nbformat_minor": 5
}
