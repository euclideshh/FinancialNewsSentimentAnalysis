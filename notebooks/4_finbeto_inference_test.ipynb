{
 "cells": [
  {
   "cell_type": "markdown",
   "id": "a227a994",
   "metadata": {},
   "source": [
    "# Testing **FINBETO**, the previously trained model, with new dataset."
   ]
  },
  {
   "cell_type": "markdown",
   "id": "5783ee2b",
   "metadata": {},
   "source": [
    "## 1. Importing required libraries"
   ]
  },
  {
   "cell_type": "code",
   "execution_count": null,
   "id": "598a0d6a",
   "metadata": {},
   "outputs": [
    {
     "name": "stderr",
     "output_type": "stream",
     "text": [
      "c:\\Users\\eucli\\anaconda3\\envs\\FinancialNewsSentimentAnalysis\\Lib\\site-packages\\tqdm\\auto.py:21: TqdmWarning: IProgress not found. Please update jupyter and ipywidgets. See https://ipywidgets.readthedocs.io/en/stable/user_install.html\n",
      "  from .autonotebook import tqdm as notebook_tqdm\n"
     ]
    },
    {
     "name": "stdout",
     "output_type": "stream",
     "text": [
      "WARNING:tensorflow:From c:\\Users\\eucli\\anaconda3\\envs\\FinancialNewsSentimentAnalysis\\Lib\\site-packages\\tf_keras\\src\\losses.py:2976: The name tf.losses.sparse_softmax_cross_entropy is deprecated. Please use tf.compat.v1.losses.sparse_softmax_cross_entropy instead.\n",
      "\n"
     ]
    }
   ],
   "source": [
    "from datetime import datetime\n",
    "import pandas as pd\n",
    "import numpy as np\n",
    "import torch\n",
    "from peft import PeftModel\n",
    "from transformers import pipeline, AutoTokenizer, AutoModelForSequenceClassification\n",
    "from sklearn.metrics import confusion_matrix, classification_report\n",
    "import matplotlib.pyplot as plt\n",
    "import seaborn as sns\n",
    "%matplotlib inline"
   ]
  },
  {
   "cell_type": "markdown",
   "id": "d9c06bde",
   "metadata": {},
   "source": [
    "## 2. Loading Dataset"
   ]
  },
  {
   "cell_type": "code",
   "execution_count": 2,
   "id": "84bada39",
   "metadata": {},
   "outputs": [
    {
     "data": {
      "text/html": [
       "<div>\n",
       "<style scoped>\n",
       "    .dataframe tbody tr th:only-of-type {\n",
       "        vertical-align: middle;\n",
       "    }\n",
       "\n",
       "    .dataframe tbody tr th {\n",
       "        vertical-align: top;\n",
       "    }\n",
       "\n",
       "    .dataframe thead th {\n",
       "        text-align: right;\n",
       "    }\n",
       "</style>\n",
       "<table border=\"1\" class=\"dataframe\">\n",
       "  <thead>\n",
       "    <tr style=\"text-align: right;\">\n",
       "      <th></th>\n",
       "      <th>title</th>\n",
       "      <th>url</th>\n",
       "      <th>source</th>\n",
       "      <th>posting_date</th>\n",
       "      <th>target_sentiment</th>\n",
       "    </tr>\n",
       "  </thead>\n",
       "  <tbody>\n",
       "    <tr>\n",
       "      <th>0</th>\n",
       "      <td>De deudas de tarjetas de crédito y el panameño...</td>\n",
       "      <td>https://panamabankingnews.com/columna-de-opini...</td>\n",
       "      <td>Panama Banking News</td>\n",
       "      <td>agosto 26, 2025</td>\n",
       "      <td>Negative</td>\n",
       "    </tr>\n",
       "    <tr>\n",
       "      <th>1</th>\n",
       "      <td>FMI prevé repunte económico en Panamá en 2025,...</td>\n",
       "      <td>https://panamabankingnews.com/economia/fmi-pre...</td>\n",
       "      <td>Panama Banking News</td>\n",
       "      <td>agosto 26, 2025</td>\n",
       "      <td>Positive</td>\n",
       "    </tr>\n",
       "    <tr>\n",
       "      <th>2</th>\n",
       "      <td>Préstamos de autos mantienen la morosidad más ...</td>\n",
       "      <td>https://panamabankingnews.com/banca/prestamos-...</td>\n",
       "      <td>Panama Banking News</td>\n",
       "      <td>agosto 22, 2025</td>\n",
       "      <td>Positive</td>\n",
       "    </tr>\n",
       "    <tr>\n",
       "      <th>3</th>\n",
       "      <td>Seguridad cuántica está acelerando la protecci...</td>\n",
       "      <td>https://panamabankingnews.com/notas-de-prensa/...</td>\n",
       "      <td>Panama Banking News</td>\n",
       "      <td>agosto 22, 2025</td>\n",
       "      <td>Positive</td>\n",
       "    </tr>\n",
       "    <tr>\n",
       "      <th>4</th>\n",
       "      <td>Líderes regionales intercambiarán en Panamá he...</td>\n",
       "      <td>https://panamabankingnews.com/notas-de-prensa/...</td>\n",
       "      <td>Panama Banking News</td>\n",
       "      <td>agosto 21, 2025</td>\n",
       "      <td>Positive</td>\n",
       "    </tr>\n",
       "    <tr>\n",
       "      <th>5</th>\n",
       "      <td>Nestlé Panamá entra en la cancha con sus marca...</td>\n",
       "      <td>https://panamabankingnews.com/notas-de-prensa/...</td>\n",
       "      <td>Panama Banking News</td>\n",
       "      <td>agosto 19, 2025</td>\n",
       "      <td>Positive</td>\n",
       "    </tr>\n",
       "    <tr>\n",
       "      <th>6</th>\n",
       "      <td>Panamá reduce su prima de riesgo a mínimos de ...</td>\n",
       "      <td>https://panamabankingnews.com/economia/panama-...</td>\n",
       "      <td>Panama Banking News</td>\n",
       "      <td>agosto 16, 2025</td>\n",
       "      <td>Positive</td>\n",
       "    </tr>\n",
       "    <tr>\n",
       "      <th>7</th>\n",
       "      <td>Panamá y Ecuador firman acuerdo tributario par...</td>\n",
       "      <td>https://panamabankingnews.com/economia/panama-...</td>\n",
       "      <td>Panama Banking News</td>\n",
       "      <td>agosto 15, 2025</td>\n",
       "      <td>Positive</td>\n",
       "    </tr>\n",
       "    <tr>\n",
       "      <th>8</th>\n",
       "      <td>Presidente anuncia medidas para proteger la pr...</td>\n",
       "      <td>https://panamabankingnews.com/economia/preside...</td>\n",
       "      <td>Panama Banking News</td>\n",
       "      <td>agosto 15, 2025</td>\n",
       "      <td>Positive</td>\n",
       "    </tr>\n",
       "    <tr>\n",
       "      <th>9</th>\n",
       "      <td>Presidente Mulino se reúne con ejecutivos del ...</td>\n",
       "      <td>https://panamabankingnews.com/economia/preside...</td>\n",
       "      <td>Panama Banking News</td>\n",
       "      <td>agosto 15, 2025</td>\n",
       "      <td>Positive</td>\n",
       "    </tr>\n",
       "  </tbody>\n",
       "</table>\n",
       "</div>"
      ],
      "text/plain": [
       "                                               title  \\\n",
       "0  De deudas de tarjetas de crédito y el panameño...   \n",
       "1  FMI prevé repunte económico en Panamá en 2025,...   \n",
       "2  Préstamos de autos mantienen la morosidad más ...   \n",
       "3  Seguridad cuántica está acelerando la protecci...   \n",
       "4  Líderes regionales intercambiarán en Panamá he...   \n",
       "5  Nestlé Panamá entra en la cancha con sus marca...   \n",
       "6  Panamá reduce su prima de riesgo a mínimos de ...   \n",
       "7  Panamá y Ecuador firman acuerdo tributario par...   \n",
       "8  Presidente anuncia medidas para proteger la pr...   \n",
       "9  Presidente Mulino se reúne con ejecutivos del ...   \n",
       "\n",
       "                                                 url               source  \\\n",
       "0  https://panamabankingnews.com/columna-de-opini...  Panama Banking News   \n",
       "1  https://panamabankingnews.com/economia/fmi-pre...  Panama Banking News   \n",
       "2  https://panamabankingnews.com/banca/prestamos-...  Panama Banking News   \n",
       "3  https://panamabankingnews.com/notas-de-prensa/...  Panama Banking News   \n",
       "4  https://panamabankingnews.com/notas-de-prensa/...  Panama Banking News   \n",
       "5  https://panamabankingnews.com/notas-de-prensa/...  Panama Banking News   \n",
       "6  https://panamabankingnews.com/economia/panama-...  Panama Banking News   \n",
       "7  https://panamabankingnews.com/economia/panama-...  Panama Banking News   \n",
       "8  https://panamabankingnews.com/economia/preside...  Panama Banking News   \n",
       "9  https://panamabankingnews.com/economia/preside...  Panama Banking News   \n",
       "\n",
       "      posting_date target_sentiment  \n",
       "0  agosto 26, 2025         Negative  \n",
       "1  agosto 26, 2025         Positive  \n",
       "2  agosto 22, 2025         Positive  \n",
       "3  agosto 22, 2025         Positive  \n",
       "4  agosto 21, 2025         Positive  \n",
       "5  agosto 19, 2025         Positive  \n",
       "6  agosto 16, 2025         Positive  \n",
       "7  agosto 15, 2025         Positive  \n",
       "8  agosto 15, 2025         Positive  \n",
       "9  agosto 15, 2025         Positive  "
      ]
     },
     "execution_count": 2,
     "metadata": {},
     "output_type": "execute_result"
    }
   ],
   "source": [
    "df = pd.read_csv('../data/raw/financial_news_headlines_20250826.csv')\n",
    "df.head(10)"
   ]
  },
  {
   "cell_type": "markdown",
   "id": "d304add7",
   "metadata": {},
   "source": [
    "## 3. Loading FINBETO and preparing the inference pipeline "
   ]
  },
  {
   "cell_type": "code",
   "execution_count": 11,
   "id": "03fd38fa",
   "metadata": {},
   "outputs": [
    {
     "name": "stderr",
     "output_type": "stream",
     "text": [
      "Some weights of BertForSequenceClassification were not initialized from the model checkpoint at dccuchile/bert-base-spanish-wwm-cased and are newly initialized: ['bert.pooler.dense.bias', 'bert.pooler.dense.weight', 'classifier.bias', 'classifier.weight']\n",
      "You should probably TRAIN this model on a down-stream task to be able to use it for predictions and inference.\n",
      "Device set to use cpu\n"
     ]
    }
   ],
   "source": [
    "device = 0 if torch.cuda.is_available() else -1\n",
    "lora_model_name = \"EuclidesHernandez/finbeto\"\n",
    "\n",
    "# Load the base model and the LoRA-adapted model\n",
    "tokenizer = AutoTokenizer.from_pretrained(lora_model_name)\n",
    "model = AutoModelForSequenceClassification.from_pretrained(lora_model_name, num_labels=3)\n",
    "\n",
    "# Create the text classification pipeline\n",
    "classifier = pipeline(\n",
    "    \"text-classification\",    \n",
    "    model=model,\n",
    "    tokenizer=tokenizer,\n",
    "    device=device\n",
    ")\n",
    "# Prepare the financial news articles for inference\n",
    "financial_news = df['title'].tolist()"
   ]
  },
  {
   "cell_type": "markdown",
   "id": "9a261487",
   "metadata": {},
   "source": [
    "## 4. Running the pipeline"
   ]
  },
  {
   "cell_type": "code",
   "execution_count": 12,
   "id": "f3ecf737",
   "metadata": {},
   "outputs": [
    {
     "name": "stdout",
     "output_type": "stream",
     "text": [
      "Running inference on 63 news...\n",
      "Inference complete.\n"
     ]
    }
   ],
   "source": [
    "print(f\"Running inference on {len(financial_news)} news...\")\n",
    "predictions = classifier(financial_news, batch_size=16, truncation=True)\n",
    "print(\"Inference complete.\")\n"
   ]
  },
  {
   "cell_type": "markdown",
   "id": "1d425a92",
   "metadata": {},
   "source": [
    "## 5. Analyzing the results of the predictions"
   ]
  },
  {
   "cell_type": "code",
   "execution_count": 13,
   "id": "21ab5df8",
   "metadata": {},
   "outputs": [],
   "source": [
    "timestamp = datetime.now().strftime(\"%Y%m%d_%H%M%S\")\n",
    "output_predictions = f'../tests/inference/test_predictions_{timestamp}.csv'\n",
    "df['predicted_label'] = [p['label'] for p in predictions]\n",
    "df['confidence_score'] = [p['score'] for p in predictions]\n",
    "df.to_csv(output_predictions, index=False)"
   ]
  },
  {
   "cell_type": "markdown",
   "id": "301387d3",
   "metadata": {},
   "source": [
    "## 6. Plotting inference results"
   ]
  },
  {
   "cell_type": "code",
   "execution_count": 15,
   "id": "17d34f80",
   "metadata": {},
   "outputs": [],
   "source": [
    "# Mapping predicted labels to their corresponding sentiment\n",
    "label_mapping = {\n",
    "    'LABEL_0': 'Positive',\n",
    "    'LABEL_1': 'Negative',\n",
    "    'LABEL_2': 'Neutral'\n",
    "}\n",
    "df['predicted_label'] = df['predicted_label'].map(label_mapping)\n",
    "\n",
    "# Preparing actual labels and predicted labels for evaluation\n",
    "y_true = df['target_sentiment']\n",
    "y_pred = df['predicted_label']"
   ]
  },
  {
   "cell_type": "code",
   "execution_count": 16,
   "id": "76ce7ed8",
   "metadata": {},
   "outputs": [
    {
     "data": {
      "image/png": "[encoded data removed]",
      "text/plain": [
       "<Figure size 800x600 with 2 Axes>"
      ]
     },
     "metadata": {},
     "output_type": "display_data"
    }
   ],
   "source": [
    "# Plotting confusion matrix\n",
    "conf_matrix = confusion_matrix(y_true, y_pred)\n",
    "class_labels = np.unique(y_true)\n",
    "plt.figure(figsize=(8, 6))\n",
    "sns.heatmap(conf_matrix, annot=True, fmt='d', cmap='Blues', xticklabels=class_labels, yticklabels=class_labels)\n",
    "plt.title('Confusion Matrix')\n",
    "plt.ylabel('True Label')\n",
    "plt.xlabel('Predicted Label')\n",
    "plt.show()"
   ]
  },
  {
   "cell_type": "code",
   "execution_count": null,
   "id": "3f1bdff4",
   "metadata": {},
   "outputs": [
    {
     "name": "stdout",
     "output_type": "stream",
     "text": [
      "              precision    recall  f1-score   support\n",
      "\n",
      "    Negative       0.00      0.00      0.00        13\n",
      "     Neutral       0.33      0.79      0.46        19\n",
      "    Positive       0.23      0.10      0.14        31\n",
      "\n",
      "    accuracy                           0.29        63\n",
      "   macro avg       0.19      0.30      0.20        63\n",
      "weighted avg       0.21      0.29      0.21        63\n",
      "\n"
     ]
    }
   ],
   "source": [
    "# Classification Report\n",
    "print(classification_report(y_true, y_pred, target_names=class_labels))"
   ]
  }
 ],
 "metadata": {
  "kernelspec": {
   "display_name": "FinancialNewsSentimentAnalysis",
   "language": "python",
   "name": "python3"
  },
  "language_info": {
   "codemirror_mode": {
    "name": "ipython",
    "version": 3
   },
   "file_extension": ".py",
   "mimetype": "text/x-python",
   "name": "python",
   "nbconvert_exporter": "python",
   "pygments_lexer": "ipython3",
   "version": "3.11.13"
  }
 },
 "nbformat": 4,
 "nbformat_minor": 5
}
